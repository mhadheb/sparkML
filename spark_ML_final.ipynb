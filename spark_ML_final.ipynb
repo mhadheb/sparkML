{
  "nbformat": 4,
  "nbformat_minor": 0,
  "metadata": {
    "colab": {
      "name": "spark_ML.ipynb",
      "provenance": [],
      "collapsed_sections": [],
      "toc_visible": true
    },
    "kernelspec": {
      "name": "python3",
      "display_name": "Python 3"
    }
  },
  "cells": [
    {
      "cell_type": "code",
      "metadata": {
        "id": "kJSJCcrp88XG"
      },
      "source": [
        "!apt-get install openjdk-8-jdk-headless -qq > /dev/null"
      ],
      "execution_count": 1,
      "outputs": []
    },
    {
      "cell_type": "code",
      "metadata": {
        "id": "FpWIl7Tt9FjF"
      },
      "source": [
        "!wget -q https://www-us.apache.org/dist/spark/spark-3.0.1/spark-3.0.1-bin-hadoop2.7.tgz"
      ],
      "execution_count": 2,
      "outputs": []
    },
    {
      "cell_type": "code",
      "metadata": {
        "id": "sv9GRnJj9JSA"
      },
      "source": [
        "!tar xf spark-3.0.1-bin-hadoop2.7.tgz"
      ],
      "execution_count": 3,
      "outputs": []
    },
    {
      "cell_type": "code",
      "metadata": {
        "id": "ln3srFP89MGq"
      },
      "source": [
        "!pip install -q findspark"
      ],
      "execution_count": 4,
      "outputs": []
    },
    {
      "cell_type": "code",
      "metadata": {
        "id": "TY1N0Qc49yAb"
      },
      "source": [
        "import os\n",
        "os.environ[\"JAVA_HOME\"] = \"/usr/lib/jvm/java-8-openjdk-amd64\"\n",
        "os.environ[\"SPARK_HOME\"] = \"/content/spark-3.0.1-bin-hadoop2.7\""
      ],
      "execution_count": 5,
      "outputs": []
    },
    {
      "cell_type": "code",
      "metadata": {
        "id": "lXXMZ2Rt967v"
      },
      "source": [
        "import findspark\n",
        "findspark.init()\n"
      ],
      "execution_count": 6,
      "outputs": []
    },
    {
      "cell_type": "code",
      "metadata": {
        "id": "F-UN8TDL-HwO"
      },
      "source": [
        "from pyspark import SparkContext\n",
        "sc =SparkContext.getOrCreate()"
      ],
      "execution_count": 7,
      "outputs": []
    },
    {
      "cell_type": "markdown",
      "metadata": {
        "id": "4MiGk-440zTT"
      },
      "source": [
        "# **First file: Cars** "
      ]
    },
    {
      "cell_type": "code",
      "metadata": {
        "id": "JBtQTxjR-Z8C",
        "colab": {
          "base_uri": "https://localhost:8080/"
        },
        "outputId": "7f62f201-779d-4a94-f4a9-256f12ce052f"
      },
      "source": [
        "rdd = sc.textFile(\"CARS-2.csv\")\n",
        "rdd.count()"
      ],
      "execution_count": 8,
      "outputs": [
        {
          "output_type": "execute_result",
          "data": {
            "text/plain": [
              "118"
            ]
          },
          "metadata": {
            "tags": []
          },
          "execution_count": 8
        }
      ]
    },
    {
      "cell_type": "code",
      "metadata": {
        "id": "IgztiaXg-9wy"
      },
      "source": [
        "from pyspark.sql import SparkSession\n",
        "spark = SparkSession \\\n",
        "    .builder \\\n",
        "    .appName(\"Python Spark create RDD example\") \\\n",
        "    .config(\"spark.some.config.option\", \"some-value\") \\\n",
        "    .getOrCreate()"
      ],
      "execution_count": 9,
      "outputs": []
    },
    {
      "cell_type": "code",
      "metadata": {
        "id": "u2jGtnAI_HY3"
      },
      "source": [
        "df = spark.read.format('com.databricks.spark.csv').\\\n",
        "                               options(header='true', \\\n",
        "                               inferschema='true').\\\n",
        "                load(\"CARS-2.csv\")\n"
      ],
      "execution_count": 10,
      "outputs": []
    },
    {
      "cell_type": "code",
      "metadata": {
        "colab": {
          "base_uri": "https://localhost:8080/"
        },
        "id": "PdgeJcOuTXWf",
        "outputId": "9293e2d7-2ee9-468c-d338-20fd880a73bf"
      },
      "source": [
        "df.show(5)"
      ],
      "execution_count": 11,
      "outputs": [
        {
          "output_type": "stream",
          "text": [
            "+------------+-------+------------------+-------------------+------------+------------------+-----------+----------+---------+-----+------+------------------+-------------+---------------+-------------+------------------+\n",
            "|Manufacturer|  Model|Sales_in_thousands|__year_resale_value|Vehicle_type|Price_in_thousands|Engine_size|Horsepower|Wheelbase|Width|Length|       Curb_weight|Fuel_capacity|Fuel_efficiency|Latest_Launch| Power_perf_factor|\n",
            "+------------+-------+------------------+-------------------+------------+------------------+-----------+----------+---------+-----+------+------------------+-------------+---------------+-------------+------------------+\n",
            "|       Acura|Integra|            16.919|              16.36|   Passenger|              21.5|        1.8|     140.0|    101.2| 67.3| 172.4|             2.639|         13.2|           28.0|     2/2/2012|       58.28014952|\n",
            "|       Acura|     TL|            39.384|             19.875|   Passenger|              28.4|        3.2|     225.0|    108.1| 70.3| 192.9|             3.517|         17.2|           25.0|     6/3/2011|       91.37077766|\n",
            "|       Acura|     RL|             8.588|             29.725|   Passenger|              42.0|        3.5|     210.0|    114.6| 71.4| 196.6|              3.85|         18.0|           22.0|    3/10/2011|       91.38977933|\n",
            "|        Audi|     A4|20.397000000000002|             22.255|   Passenger|             23.99|        1.8|     150.0|    102.6| 68.2| 178.0|             2.998|         16.4|           27.0|    10/8/2011|62.777639199999996|\n",
            "|        Audi|     A6|             18.78|             23.555|   Passenger|             33.95|        2.8|     200.0|    108.7| 76.1| 192.0|3.5610000000000004|         18.5|           22.0|     8/9/2011|       84.56510502|\n",
            "+------------+-------+------------------+-------------------+------------+------------------+-----------+----------+---------+-----+------+------------------+-------------+---------------+-------------+------------------+\n",
            "only showing top 5 rows\n",
            "\n"
          ],
          "name": "stdout"
        }
      ]
    },
    {
      "cell_type": "code",
      "metadata": {
        "colab": {
          "base_uri": "https://localhost:8080/",
          "height": 439
        },
        "id": "v4R2a_lyTdMX",
        "outputId": "88761458-0723-4af9-d586-703a875fbf3c"
      },
      "source": [
        "df.toPandas()"
      ],
      "execution_count": 12,
      "outputs": [
        {
          "output_type": "execute_result",
          "data": {
            "text/html": [
              "<div>\n",
              "<style scoped>\n",
              "    .dataframe tbody tr th:only-of-type {\n",
              "        vertical-align: middle;\n",
              "    }\n",
              "\n",
              "    .dataframe tbody tr th {\n",
              "        vertical-align: top;\n",
              "    }\n",
              "\n",
              "    .dataframe thead th {\n",
              "        text-align: right;\n",
              "    }\n",
              "</style>\n",
              "<table border=\"1\" class=\"dataframe\">\n",
              "  <thead>\n",
              "    <tr style=\"text-align: right;\">\n",
              "      <th></th>\n",
              "      <th>Manufacturer</th>\n",
              "      <th>Model</th>\n",
              "      <th>Sales_in_thousands</th>\n",
              "      <th>__year_resale_value</th>\n",
              "      <th>Vehicle_type</th>\n",
              "      <th>Price_in_thousands</th>\n",
              "      <th>Engine_size</th>\n",
              "      <th>Horsepower</th>\n",
              "      <th>Wheelbase</th>\n",
              "      <th>Width</th>\n",
              "      <th>Length</th>\n",
              "      <th>Curb_weight</th>\n",
              "      <th>Fuel_capacity</th>\n",
              "      <th>Fuel_efficiency</th>\n",
              "      <th>Latest_Launch</th>\n",
              "      <th>Power_perf_factor</th>\n",
              "    </tr>\n",
              "  </thead>\n",
              "  <tbody>\n",
              "    <tr>\n",
              "      <th>0</th>\n",
              "      <td>Acura</td>\n",
              "      <td>Integra</td>\n",
              "      <td>16.919</td>\n",
              "      <td>16.360</td>\n",
              "      <td>Passenger</td>\n",
              "      <td>21.50</td>\n",
              "      <td>1.8</td>\n",
              "      <td>140.0</td>\n",
              "      <td>101.2</td>\n",
              "      <td>67.3</td>\n",
              "      <td>172.4</td>\n",
              "      <td>2.639</td>\n",
              "      <td>13.2</td>\n",
              "      <td>28.0</td>\n",
              "      <td>2/2/2012</td>\n",
              "      <td>58.280150</td>\n",
              "    </tr>\n",
              "    <tr>\n",
              "      <th>1</th>\n",
              "      <td>Acura</td>\n",
              "      <td>TL</td>\n",
              "      <td>39.384</td>\n",
              "      <td>19.875</td>\n",
              "      <td>Passenger</td>\n",
              "      <td>28.40</td>\n",
              "      <td>3.2</td>\n",
              "      <td>225.0</td>\n",
              "      <td>108.1</td>\n",
              "      <td>70.3</td>\n",
              "      <td>192.9</td>\n",
              "      <td>3.517</td>\n",
              "      <td>17.2</td>\n",
              "      <td>25.0</td>\n",
              "      <td>6/3/2011</td>\n",
              "      <td>91.370778</td>\n",
              "    </tr>\n",
              "    <tr>\n",
              "      <th>2</th>\n",
              "      <td>Acura</td>\n",
              "      <td>RL</td>\n",
              "      <td>8.588</td>\n",
              "      <td>29.725</td>\n",
              "      <td>Passenger</td>\n",
              "      <td>42.00</td>\n",
              "      <td>3.5</td>\n",
              "      <td>210.0</td>\n",
              "      <td>114.6</td>\n",
              "      <td>71.4</td>\n",
              "      <td>196.6</td>\n",
              "      <td>3.850</td>\n",
              "      <td>18.0</td>\n",
              "      <td>22.0</td>\n",
              "      <td>3/10/2011</td>\n",
              "      <td>91.389779</td>\n",
              "    </tr>\n",
              "    <tr>\n",
              "      <th>3</th>\n",
              "      <td>Audi</td>\n",
              "      <td>A4</td>\n",
              "      <td>20.397</td>\n",
              "      <td>22.255</td>\n",
              "      <td>Passenger</td>\n",
              "      <td>23.99</td>\n",
              "      <td>1.8</td>\n",
              "      <td>150.0</td>\n",
              "      <td>102.6</td>\n",
              "      <td>68.2</td>\n",
              "      <td>178.0</td>\n",
              "      <td>2.998</td>\n",
              "      <td>16.4</td>\n",
              "      <td>27.0</td>\n",
              "      <td>10/8/2011</td>\n",
              "      <td>62.777639</td>\n",
              "    </tr>\n",
              "    <tr>\n",
              "      <th>4</th>\n",
              "      <td>Audi</td>\n",
              "      <td>A6</td>\n",
              "      <td>18.780</td>\n",
              "      <td>23.555</td>\n",
              "      <td>Passenger</td>\n",
              "      <td>33.95</td>\n",
              "      <td>2.8</td>\n",
              "      <td>200.0</td>\n",
              "      <td>108.7</td>\n",
              "      <td>76.1</td>\n",
              "      <td>192.0</td>\n",
              "      <td>3.561</td>\n",
              "      <td>18.5</td>\n",
              "      <td>22.0</td>\n",
              "      <td>8/9/2011</td>\n",
              "      <td>84.565105</td>\n",
              "    </tr>\n",
              "    <tr>\n",
              "      <th>...</th>\n",
              "      <td>...</td>\n",
              "      <td>...</td>\n",
              "      <td>...</td>\n",
              "      <td>...</td>\n",
              "      <td>...</td>\n",
              "      <td>...</td>\n",
              "      <td>...</td>\n",
              "      <td>...</td>\n",
              "      <td>...</td>\n",
              "      <td>...</td>\n",
              "      <td>...</td>\n",
              "      <td>...</td>\n",
              "      <td>...</td>\n",
              "      <td>...</td>\n",
              "      <td>...</td>\n",
              "      <td>...</td>\n",
              "    </tr>\n",
              "    <tr>\n",
              "      <th>112</th>\n",
              "      <td>Volkswagen</td>\n",
              "      <td>Golf</td>\n",
              "      <td>9.761</td>\n",
              "      <td>11.425</td>\n",
              "      <td>Passenger</td>\n",
              "      <td>14.90</td>\n",
              "      <td>2.0</td>\n",
              "      <td>115.0</td>\n",
              "      <td>98.9</td>\n",
              "      <td>68.3</td>\n",
              "      <td>163.3</td>\n",
              "      <td>2.767</td>\n",
              "      <td>14.5</td>\n",
              "      <td>26.0</td>\n",
              "      <td>1/24/2011</td>\n",
              "      <td>46.943877</td>\n",
              "    </tr>\n",
              "    <tr>\n",
              "      <th>113</th>\n",
              "      <td>Volkswagen</td>\n",
              "      <td>Jetta</td>\n",
              "      <td>83.721</td>\n",
              "      <td>13.240</td>\n",
              "      <td>Passenger</td>\n",
              "      <td>16.70</td>\n",
              "      <td>2.0</td>\n",
              "      <td>115.0</td>\n",
              "      <td>98.9</td>\n",
              "      <td>68.3</td>\n",
              "      <td>172.3</td>\n",
              "      <td>2.853</td>\n",
              "      <td>14.5</td>\n",
              "      <td>26.0</td>\n",
              "      <td>8/27/2011</td>\n",
              "      <td>47.638237</td>\n",
              "    </tr>\n",
              "    <tr>\n",
              "      <th>114</th>\n",
              "      <td>Volkswagen</td>\n",
              "      <td>Passat</td>\n",
              "      <td>51.102</td>\n",
              "      <td>16.725</td>\n",
              "      <td>Passenger</td>\n",
              "      <td>21.20</td>\n",
              "      <td>1.8</td>\n",
              "      <td>150.0</td>\n",
              "      <td>106.4</td>\n",
              "      <td>68.5</td>\n",
              "      <td>184.1</td>\n",
              "      <td>3.043</td>\n",
              "      <td>16.4</td>\n",
              "      <td>27.0</td>\n",
              "      <td>10/30/2012</td>\n",
              "      <td>61.701381</td>\n",
              "    </tr>\n",
              "    <tr>\n",
              "      <th>115</th>\n",
              "      <td>Volkswagen</td>\n",
              "      <td>Cabrio</td>\n",
              "      <td>9.569</td>\n",
              "      <td>16.575</td>\n",
              "      <td>Passenger</td>\n",
              "      <td>19.99</td>\n",
              "      <td>2.0</td>\n",
              "      <td>115.0</td>\n",
              "      <td>97.4</td>\n",
              "      <td>66.7</td>\n",
              "      <td>160.4</td>\n",
              "      <td>3.079</td>\n",
              "      <td>13.7</td>\n",
              "      <td>26.0</td>\n",
              "      <td>5/31/2011</td>\n",
              "      <td>48.907372</td>\n",
              "    </tr>\n",
              "    <tr>\n",
              "      <th>116</th>\n",
              "      <td>Volkswagen</td>\n",
              "      <td>GTI</td>\n",
              "      <td>5.596</td>\n",
              "      <td>13.760</td>\n",
              "      <td>Passenger</td>\n",
              "      <td>17.50</td>\n",
              "      <td>2.0</td>\n",
              "      <td>115.0</td>\n",
              "      <td>98.9</td>\n",
              "      <td>68.3</td>\n",
              "      <td>163.3</td>\n",
              "      <td>2.762</td>\n",
              "      <td>14.6</td>\n",
              "      <td>26.0</td>\n",
              "      <td>4/1/2011</td>\n",
              "      <td>47.946841</td>\n",
              "    </tr>\n",
              "  </tbody>\n",
              "</table>\n",
              "<p>117 rows × 16 columns</p>\n",
              "</div>"
            ],
            "text/plain": [
              "    Manufacturer    Model  ...  Latest_Launch  Power_perf_factor\n",
              "0          Acura  Integra  ...       2/2/2012          58.280150\n",
              "1          Acura       TL  ...       6/3/2011          91.370778\n",
              "2          Acura       RL  ...      3/10/2011          91.389779\n",
              "3           Audi       A4  ...      10/8/2011          62.777639\n",
              "4           Audi       A6  ...       8/9/2011          84.565105\n",
              "..           ...      ...  ...            ...                ...\n",
              "112   Volkswagen     Golf  ...      1/24/2011          46.943877\n",
              "113   Volkswagen    Jetta  ...      8/27/2011          47.638237\n",
              "114   Volkswagen   Passat  ...     10/30/2012          61.701381\n",
              "115   Volkswagen   Cabrio  ...      5/31/2011          48.907372\n",
              "116   Volkswagen      GTI  ...       4/1/2011          47.946841\n",
              "\n",
              "[117 rows x 16 columns]"
            ]
          },
          "metadata": {
            "tags": []
          },
          "execution_count": 12
        }
      ]
    },
    {
      "cell_type": "code",
      "metadata": {
        "colab": {
          "base_uri": "https://localhost:8080/"
        },
        "id": "zPbDYuTdV6PZ",
        "outputId": "45e05f93-1f32-4a83-a0e4-570f6ef2e9c8"
      },
      "source": [
        "# How many rows we have\n",
        "df.count()\n"
      ],
      "execution_count": null,
      "outputs": [
        {
          "output_type": "execute_result",
          "data": {
            "text/plain": [
              "117"
            ]
          },
          "metadata": {
            "tags": []
          },
          "execution_count": 13
        }
      ]
    },
    {
      "cell_type": "code",
      "metadata": {
        "colab": {
          "base_uri": "https://localhost:8080/"
        },
        "id": "1rukRtjBWHJX",
        "outputId": "262a0b4b-5994-49f5-ff8f-5a20fcbc3b4c"
      },
      "source": [
        "# The names of our columns\n",
        "df.columns"
      ],
      "execution_count": null,
      "outputs": [
        {
          "output_type": "execute_result",
          "data": {
            "text/plain": [
              "['Manufacturer',\n",
              " 'Model',\n",
              " 'Sales_in_thousands',\n",
              " '__year_resale_value',\n",
              " 'Vehicle_type',\n",
              " 'Price_in_thousands',\n",
              " 'Engine_size',\n",
              " 'Horsepower',\n",
              " 'Wheelbase',\n",
              " 'Width',\n",
              " 'Length',\n",
              " 'Curb_weight',\n",
              " 'Fuel_capacity',\n",
              " 'Fuel_efficiency',\n",
              " 'Latest_Launch',\n",
              " 'Power_perf_factor']"
            ]
          },
          "metadata": {
            "tags": []
          },
          "execution_count": 14
        }
      ]
    },
    {
      "cell_type": "code",
      "metadata": {
        "colab": {
          "base_uri": "https://localhost:8080/"
        },
        "id": "KXe4eQlOWJyQ",
        "outputId": "5171b30f-58a7-44aa-e48a-3a36392f7f44"
      },
      "source": [
        "# Types of our columns\n",
        "df.dtypes"
      ],
      "execution_count": null,
      "outputs": [
        {
          "output_type": "execute_result",
          "data": {
            "text/plain": [
              "[('Manufacturer', 'string'),\n",
              " ('Model', 'string'),\n",
              " ('Sales_in_thousands', 'double'),\n",
              " ('__year_resale_value', 'double'),\n",
              " ('Vehicle_type', 'string'),\n",
              " ('Price_in_thousands', 'double'),\n",
              " ('Engine_size', 'double'),\n",
              " ('Horsepower', 'double'),\n",
              " ('Wheelbase', 'double'),\n",
              " ('Width', 'double'),\n",
              " ('Length', 'double'),\n",
              " ('Curb_weight', 'double'),\n",
              " ('Fuel_capacity', 'double'),\n",
              " ('Fuel_efficiency', 'double'),\n",
              " ('Latest_Launch', 'string'),\n",
              " ('Power_perf_factor', 'double')]"
            ]
          },
          "metadata": {
            "tags": []
          },
          "execution_count": 15
        }
      ]
    },
    {
      "cell_type": "code",
      "metadata": {
        "colab": {
          "base_uri": "https://localhost:8080/",
          "height": 224
        },
        "id": "hmWdQOnKWRu9",
        "outputId": "4b042dfd-6b80-4280-de33-1ac5d31793df"
      },
      "source": [
        "# Basics stats from our columns\n",
        "df.describe().toPandas()\n"
      ],
      "execution_count": null,
      "outputs": [
        {
          "output_type": "execute_result",
          "data": {
            "text/html": [
              "<div>\n",
              "<style scoped>\n",
              "    .dataframe tbody tr th:only-of-type {\n",
              "        vertical-align: middle;\n",
              "    }\n",
              "\n",
              "    .dataframe tbody tr th {\n",
              "        vertical-align: top;\n",
              "    }\n",
              "\n",
              "    .dataframe thead th {\n",
              "        text-align: right;\n",
              "    }\n",
              "</style>\n",
              "<table border=\"1\" class=\"dataframe\">\n",
              "  <thead>\n",
              "    <tr style=\"text-align: right;\">\n",
              "      <th></th>\n",
              "      <th>summary</th>\n",
              "      <th>Manufacturer</th>\n",
              "      <th>Model</th>\n",
              "      <th>Sales_in_thousands</th>\n",
              "      <th>__year_resale_value</th>\n",
              "      <th>Vehicle_type</th>\n",
              "      <th>Price_in_thousands</th>\n",
              "      <th>Engine_size</th>\n",
              "      <th>Horsepower</th>\n",
              "      <th>Wheelbase</th>\n",
              "      <th>Width</th>\n",
              "      <th>Length</th>\n",
              "      <th>Curb_weight</th>\n",
              "      <th>Fuel_capacity</th>\n",
              "      <th>Fuel_efficiency</th>\n",
              "      <th>Latest_Launch</th>\n",
              "      <th>Power_perf_factor</th>\n",
              "    </tr>\n",
              "  </thead>\n",
              "  <tbody>\n",
              "    <tr>\n",
              "      <th>0</th>\n",
              "      <td>count</td>\n",
              "      <td>117</td>\n",
              "      <td>117</td>\n",
              "      <td>117</td>\n",
              "      <td>117</td>\n",
              "      <td>117</td>\n",
              "      <td>117</td>\n",
              "      <td>117</td>\n",
              "      <td>117</td>\n",
              "      <td>117</td>\n",
              "      <td>117</td>\n",
              "      <td>117</td>\n",
              "      <td>117</td>\n",
              "      <td>117</td>\n",
              "      <td>117</td>\n",
              "      <td>117</td>\n",
              "      <td>117</td>\n",
              "    </tr>\n",
              "    <tr>\n",
              "      <th>1</th>\n",
              "      <td>mean</td>\n",
              "      <td>None</td>\n",
              "      <td>None</td>\n",
              "      <td>59.112316239316236</td>\n",
              "      <td>18.031538461538464</td>\n",
              "      <td>None</td>\n",
              "      <td>25.969487179487164</td>\n",
              "      <td>3.0487179487179477</td>\n",
              "      <td>181.28205128205127</td>\n",
              "      <td>107.32649572649566</td>\n",
              "      <td>71.18974358974357</td>\n",
              "      <td>187.71794871794881</td>\n",
              "      <td>3.3240512820512813</td>\n",
              "      <td>17.81282051282051</td>\n",
              "      <td>24.11965811965812</td>\n",
              "      <td>None</td>\n",
              "      <td>74.93092069965812</td>\n",
              "    </tr>\n",
              "    <tr>\n",
              "      <th>2</th>\n",
              "      <td>stddev</td>\n",
              "      <td>None</td>\n",
              "      <td>None</td>\n",
              "      <td>75.05893322935277</td>\n",
              "      <td>11.605632187640666</td>\n",
              "      <td>None</td>\n",
              "      <td>14.149699362966485</td>\n",
              "      <td>1.0551691631509716</td>\n",
              "      <td>58.59178566557008</td>\n",
              "      <td>8.050587825640042</td>\n",
              "      <td>3.53015054420084</td>\n",
              "      <td>13.849926026097831</td>\n",
              "      <td>0.5971767318571763</td>\n",
              "      <td>3.7946091176085144</td>\n",
              "      <td>4.40446950338496</td>\n",
              "      <td>None</td>\n",
              "      <td>25.771796485379728</td>\n",
              "    </tr>\n",
              "    <tr>\n",
              "      <th>3</th>\n",
              "      <td>min</td>\n",
              "      <td>Acura</td>\n",
              "      <td>3000GT</td>\n",
              "      <td>0.11</td>\n",
              "      <td>5.16</td>\n",
              "      <td>Car</td>\n",
              "      <td>9.235</td>\n",
              "      <td>1.0</td>\n",
              "      <td>55.0</td>\n",
              "      <td>92.6</td>\n",
              "      <td>62.6</td>\n",
              "      <td>149.4</td>\n",
              "      <td>1.895</td>\n",
              "      <td>10.3</td>\n",
              "      <td>15.0</td>\n",
              "      <td>1/14/2012</td>\n",
              "      <td>23.27627233</td>\n",
              "    </tr>\n",
              "    <tr>\n",
              "      <th>4</th>\n",
              "      <td>max</td>\n",
              "      <td>Volkswagen</td>\n",
              "      <td>Wrangler</td>\n",
              "      <td>540.561</td>\n",
              "      <td>67.55</td>\n",
              "      <td>Passenger</td>\n",
              "      <td>82.6</td>\n",
              "      <td>8.0</td>\n",
              "      <td>450.0</td>\n",
              "      <td>138.7</td>\n",
              "      <td>79.3</td>\n",
              "      <td>224.5</td>\n",
              "      <td>5.115</td>\n",
              "      <td>32.0</td>\n",
              "      <td>45.0</td>\n",
              "      <td>9/3/2011</td>\n",
              "      <td>188.14432299999999</td>\n",
              "    </tr>\n",
              "  </tbody>\n",
              "</table>\n",
              "</div>"
            ],
            "text/plain": [
              "  summary Manufacturer  ... Latest_Launch   Power_perf_factor\n",
              "0   count          117  ...           117                 117\n",
              "1    mean         None  ...          None   74.93092069965812\n",
              "2  stddev         None  ...          None  25.771796485379728\n",
              "3     min        Acura  ...     1/14/2012         23.27627233\n",
              "4     max   Volkswagen  ...      9/3/2011  188.14432299999999\n",
              "\n",
              "[5 rows x 17 columns]"
            ]
          },
          "metadata": {
            "tags": []
          },
          "execution_count": 16
        }
      ]
    },
    {
      "cell_type": "code",
      "metadata": {
        "colab": {
          "base_uri": "https://localhost:8080/"
        },
        "id": "pCoceYfaWWvq",
        "outputId": "743f7ab1-a737-4e8d-f1ec-6ec8babbbe23"
      },
      "source": [
        "from pyspark.sql.functions import col\n",
        "dataset = df.select(\n",
        "                         col('Sales_in_thousands').cast('float'),\n",
        "                         col('Vehicle_type'),\n",
        "                         col('Price_in_thousands').cast('float'),\n",
        "                         col('Engine_size').cast('float'),\n",
        "                         col('Horsepower').cast('float'),\n",
        "                         col('Wheelbase').cast('float'),\n",
        "                         col('Width').cast('float'),\n",
        "                         col('Length').cast('float'),\n",
        "                         col('Curb_weight').cast('float'),\n",
        "                         col('Fuel_capacity').cast('float'),\n",
        "                         col('Fuel_efficiency').cast('float'),\n",
        "                         col('Power_perf_factor').cast('float')\n",
        "                         \n",
        "                        )\n",
        "dataset.show()"
      ],
      "execution_count": null,
      "outputs": [
        {
          "output_type": "stream",
          "text": [
            "+------------------+------------+------------------+-----------+----------+---------+-----+------+-----------+-------------+---------------+-----------------+\n",
            "|Sales_in_thousands|Vehicle_type|Price_in_thousands|Engine_size|Horsepower|Wheelbase|Width|Length|Curb_weight|Fuel_capacity|Fuel_efficiency|Power_perf_factor|\n",
            "+------------------+------------+------------------+-----------+----------+---------+-----+------+-----------+-------------+---------------+-----------------+\n",
            "|            16.919|   Passenger|              21.5|        1.8|     140.0|    101.2| 67.3| 172.4|      2.639|         13.2|           28.0|         58.28015|\n",
            "|            39.384|   Passenger|              28.4|        3.2|     225.0|    108.1| 70.3| 192.9|      3.517|         17.2|           25.0|         91.37078|\n",
            "|             8.588|   Passenger|              42.0|        3.5|     210.0|    114.6| 71.4| 196.6|       3.85|         18.0|           22.0|         91.38978|\n",
            "|            20.397|   Passenger|             23.99|        1.8|     150.0|    102.6| 68.2| 178.0|      2.998|         16.4|           27.0|        62.777637|\n",
            "|             18.78|   Passenger|             33.95|        2.8|     200.0|    108.7| 76.1| 192.0|      3.561|         18.5|           22.0|          84.5651|\n",
            "|              1.38|   Passenger|              62.0|        4.2|     310.0|    113.0| 74.0| 198.2|      3.902|         23.7|           21.0|        134.65686|\n",
            "|             9.231|   Passenger|              33.4|        2.8|     193.0|    107.3| 68.5| 176.0|      3.197|         16.6|           24.0|         81.87707|\n",
            "|            17.527|   Passenger|              38.9|        2.8|     193.0|    111.4| 70.9| 188.0|      3.472|         18.5|           25.0|        83.998726|\n",
            "|            91.561|   Passenger|            21.975|        3.1|     175.0|    109.0| 72.7| 194.6|      3.368|         17.5|           25.0|         71.18145|\n",
            "|             39.35|   Passenger|              25.3|        3.8|     240.0|    109.0| 72.7| 196.2|      3.543|         17.5|           23.0|          95.6367|\n",
            "|            27.851|   Passenger|            31.965|        3.8|     205.0|    113.8| 74.7| 206.8|      3.778|         18.5|           24.0|         85.82841|\n",
            "|            83.257|   Passenger|            27.885|        3.8|     205.0|    112.2| 73.5| 200.0|      3.591|         17.5|           25.0|        84.254524|\n",
            "|            63.729|   Passenger|            39.895|        4.6|     275.0|    115.3| 74.5| 207.2|      3.978|         18.5|           22.0|         113.8546|\n",
            "|             6.536|   Passenger|            39.665|        4.6|     275.0|    108.0| 75.5| 200.6|      3.843|         19.0|           22.0|        113.76588|\n",
            "|            11.185|   Passenger|             31.01|        3.0|     200.0|    107.4| 70.3| 194.8|       3.77|         18.0|           22.0|         83.48309|\n",
            "|           145.519|   Passenger|             13.26|        2.2|     115.0|    104.1| 67.9| 180.9|      2.676|         14.3|           27.0|        46.363346|\n",
            "|           135.126|   Passenger|            16.535|        3.1|     170.0|    107.0| 69.4| 190.4|      3.051|         15.0|           25.0|         67.31446|\n",
            "|            24.629|   Passenger|             18.89|        3.1|     175.0|    107.5| 72.5| 200.9|       3.33|         16.6|           25.0|        69.991394|\n",
            "|            42.593|   Passenger|             19.39|        3.4|     180.0|    110.5| 72.7| 197.9|       3.34|         17.0|           27.0|        72.030914|\n",
            "|            26.402|   Passenger|             24.34|        3.8|     200.0|    101.1| 74.1| 193.2|        3.5|         16.8|           25.0|        81.118546|\n",
            "+------------------+------------+------------------+-----------+----------+---------+-----+------+-----------+-------------+---------------+-----------------+\n",
            "only showing top 20 rows\n",
            "\n"
          ],
          "name": "stdout"
        }
      ]
    },
    {
      "cell_type": "code",
      "metadata": {
        "colab": {
          "base_uri": "https://localhost:8080/"
        },
        "id": "-4CrqomNYkRf",
        "outputId": "7394ada1-3f42-4643-b6a9-fc5bbed16b71"
      },
      "source": [
        "from pyspark.sql.functions import isnull, when, count, col\n",
        "dataset.select([count(when(isnull(c), c)).alias(c) for c in dataset.columns]).show()"
      ],
      "execution_count": null,
      "outputs": [
        {
          "output_type": "stream",
          "text": [
            "+------------------+------------+------------------+-----------+----------+---------+-----+------+-----------+-------------+---------------+-----------------+\n",
            "|Sales_in_thousands|Vehicle_type|Price_in_thousands|Engine_size|Horsepower|Wheelbase|Width|Length|Curb_weight|Fuel_capacity|Fuel_efficiency|Power_perf_factor|\n",
            "+------------------+------------+------------------+-----------+----------+---------+-----+------+-----------+-------------+---------------+-----------------+\n",
            "|                 0|           0|                 0|          0|         0|        0|    0|     0|          0|            0|              0|                0|\n",
            "+------------------+------------+------------------+-----------+----------+---------+-----+------+-----------+-------------+---------------+-----------------+\n",
            "\n"
          ],
          "name": "stdout"
        }
      ]
    },
    {
      "cell_type": "markdown",
      "metadata": {
        "id": "-dqLs-z8Y8SW"
      },
      "source": [
        "We see that we don't have null values in columns"
      ]
    },
    {
      "cell_type": "markdown",
      "metadata": {
        "id": "JRrkIJ6tZR2l"
      },
      "source": [
        "Now, the Spark ML library only works with numeric data. But we still want to use the Sex and the Embarked column. For that, we will need to encode them. To do it let’s use something called the StringIndexer"
      ]
    },
    {
      "cell_type": "code",
      "metadata": {
        "colab": {
          "base_uri": "https://localhost:8080/"
        },
        "id": "Klqv_JeRZMkB",
        "outputId": "546cee9c-b0bd-457f-f8c7-714d3f5a8a33"
      },
      "source": [
        "from pyspark.ml.feature import StringIndexer\n",
        "dataset = StringIndexer(\n",
        "    inputCol='Vehicle_type', \n",
        "    outputCol='VehicleType', \n",
        "    handleInvalid='keep').fit(dataset).transform(dataset)\n",
        "dataset.show()"
      ],
      "execution_count": null,
      "outputs": [
        {
          "output_type": "stream",
          "text": [
            "+------------------+------------+------------------+-----------+----------+---------+-----+------+-----------+-------------+---------------+-----------------+-----------+\n",
            "|Sales_in_thousands|Vehicle_type|Price_in_thousands|Engine_size|Horsepower|Wheelbase|Width|Length|Curb_weight|Fuel_capacity|Fuel_efficiency|Power_perf_factor|VehicleType|\n",
            "+------------------+------------+------------------+-----------+----------+---------+-----+------+-----------+-------------+---------------+-----------------+-----------+\n",
            "|            16.919|   Passenger|              21.5|        1.8|     140.0|    101.2| 67.3| 172.4|      2.639|         13.2|           28.0|         58.28015|        0.0|\n",
            "|            39.384|   Passenger|              28.4|        3.2|     225.0|    108.1| 70.3| 192.9|      3.517|         17.2|           25.0|         91.37078|        0.0|\n",
            "|             8.588|   Passenger|              42.0|        3.5|     210.0|    114.6| 71.4| 196.6|       3.85|         18.0|           22.0|         91.38978|        0.0|\n",
            "|            20.397|   Passenger|             23.99|        1.8|     150.0|    102.6| 68.2| 178.0|      2.998|         16.4|           27.0|        62.777637|        0.0|\n",
            "|             18.78|   Passenger|             33.95|        2.8|     200.0|    108.7| 76.1| 192.0|      3.561|         18.5|           22.0|          84.5651|        0.0|\n",
            "|              1.38|   Passenger|              62.0|        4.2|     310.0|    113.0| 74.0| 198.2|      3.902|         23.7|           21.0|        134.65686|        0.0|\n",
            "|             9.231|   Passenger|              33.4|        2.8|     193.0|    107.3| 68.5| 176.0|      3.197|         16.6|           24.0|         81.87707|        0.0|\n",
            "|            17.527|   Passenger|              38.9|        2.8|     193.0|    111.4| 70.9| 188.0|      3.472|         18.5|           25.0|        83.998726|        0.0|\n",
            "|            91.561|   Passenger|            21.975|        3.1|     175.0|    109.0| 72.7| 194.6|      3.368|         17.5|           25.0|         71.18145|        0.0|\n",
            "|             39.35|   Passenger|              25.3|        3.8|     240.0|    109.0| 72.7| 196.2|      3.543|         17.5|           23.0|          95.6367|        0.0|\n",
            "|            27.851|   Passenger|            31.965|        3.8|     205.0|    113.8| 74.7| 206.8|      3.778|         18.5|           24.0|         85.82841|        0.0|\n",
            "|            83.257|   Passenger|            27.885|        3.8|     205.0|    112.2| 73.5| 200.0|      3.591|         17.5|           25.0|        84.254524|        0.0|\n",
            "|            63.729|   Passenger|            39.895|        4.6|     275.0|    115.3| 74.5| 207.2|      3.978|         18.5|           22.0|         113.8546|        0.0|\n",
            "|             6.536|   Passenger|            39.665|        4.6|     275.0|    108.0| 75.5| 200.6|      3.843|         19.0|           22.0|        113.76588|        0.0|\n",
            "|            11.185|   Passenger|             31.01|        3.0|     200.0|    107.4| 70.3| 194.8|       3.77|         18.0|           22.0|         83.48309|        0.0|\n",
            "|           145.519|   Passenger|             13.26|        2.2|     115.0|    104.1| 67.9| 180.9|      2.676|         14.3|           27.0|        46.363346|        0.0|\n",
            "|           135.126|   Passenger|            16.535|        3.1|     170.0|    107.0| 69.4| 190.4|      3.051|         15.0|           25.0|         67.31446|        0.0|\n",
            "|            24.629|   Passenger|             18.89|        3.1|     175.0|    107.5| 72.5| 200.9|       3.33|         16.6|           25.0|        69.991394|        0.0|\n",
            "|            42.593|   Passenger|             19.39|        3.4|     180.0|    110.5| 72.7| 197.9|       3.34|         17.0|           27.0|        72.030914|        0.0|\n",
            "|            26.402|   Passenger|             24.34|        3.8|     200.0|    101.1| 74.1| 193.2|        3.5|         16.8|           25.0|        81.118546|        0.0|\n",
            "+------------------+------------+------------------+-----------+----------+---------+-----+------+-----------+-------------+---------------+-----------------+-----------+\n",
            "only showing top 20 rows\n",
            "\n"
          ],
          "name": "stdout"
        }
      ]
    },
    {
      "cell_type": "markdown",
      "metadata": {
        "id": "0cBguGPYZrk7"
      },
      "source": [
        "As you can see we’ve created a new column “VehicleType” that contain the same information as “Vehicle_type” but now they are numeric. Let’s do a final check for our data types:"
      ]
    },
    {
      "cell_type": "code",
      "metadata": {
        "colab": {
          "base_uri": "https://localhost:8080/"
        },
        "id": "dUdjakTbZZay",
        "outputId": "342ff8cb-c6e1-4630-a972-bc67b2c56754"
      },
      "source": [
        "dataset.dtypes\n"
      ],
      "execution_count": null,
      "outputs": [
        {
          "output_type": "execute_result",
          "data": {
            "text/plain": [
              "[('Sales_in_thousands', 'float'),\n",
              " ('Vehicle_type', 'string'),\n",
              " ('Price_in_thousands', 'float'),\n",
              " ('Engine_size', 'float'),\n",
              " ('Horsepower', 'float'),\n",
              " ('Wheelbase', 'float'),\n",
              " ('Width', 'float'),\n",
              " ('Length', 'float'),\n",
              " ('Curb_weight', 'float'),\n",
              " ('Fuel_capacity', 'float'),\n",
              " ('Fuel_efficiency', 'float'),\n",
              " ('Power_perf_factor', 'float'),\n",
              " ('VehicleType', 'double')]"
            ]
          },
          "metadata": {
            "tags": []
          },
          "execution_count": 20
        }
      ]
    },
    {
      "cell_type": "code",
      "metadata": {
        "colab": {
          "base_uri": "https://localhost:8080/"
        },
        "id": "YJkgCTULaG8T",
        "outputId": "35cae3de-4981-48d3-f814-21f63baecdbc"
      },
      "source": [
        "#So all the columns we want are numeric. We now have to get rid of the old column “Vehicle_type”  because we won’t be using them:\n",
        "# Drop unnecessary columns\n",
        "dataset = dataset.drop('Vehicle_type')\n",
        "dataset.show()"
      ],
      "execution_count": null,
      "outputs": [
        {
          "output_type": "stream",
          "text": [
            "+------------------+------------------+-----------+----------+---------+-----+------+-----------+-------------+---------------+-----------------+-----------+\n",
            "|Sales_in_thousands|Price_in_thousands|Engine_size|Horsepower|Wheelbase|Width|Length|Curb_weight|Fuel_capacity|Fuel_efficiency|Power_perf_factor|VehicleType|\n",
            "+------------------+------------------+-----------+----------+---------+-----+------+-----------+-------------+---------------+-----------------+-----------+\n",
            "|            16.919|              21.5|        1.8|     140.0|    101.2| 67.3| 172.4|      2.639|         13.2|           28.0|         58.28015|        0.0|\n",
            "|            39.384|              28.4|        3.2|     225.0|    108.1| 70.3| 192.9|      3.517|         17.2|           25.0|         91.37078|        0.0|\n",
            "|             8.588|              42.0|        3.5|     210.0|    114.6| 71.4| 196.6|       3.85|         18.0|           22.0|         91.38978|        0.0|\n",
            "|            20.397|             23.99|        1.8|     150.0|    102.6| 68.2| 178.0|      2.998|         16.4|           27.0|        62.777637|        0.0|\n",
            "|             18.78|             33.95|        2.8|     200.0|    108.7| 76.1| 192.0|      3.561|         18.5|           22.0|          84.5651|        0.0|\n",
            "|              1.38|              62.0|        4.2|     310.0|    113.0| 74.0| 198.2|      3.902|         23.7|           21.0|        134.65686|        0.0|\n",
            "|             9.231|              33.4|        2.8|     193.0|    107.3| 68.5| 176.0|      3.197|         16.6|           24.0|         81.87707|        0.0|\n",
            "|            17.527|              38.9|        2.8|     193.0|    111.4| 70.9| 188.0|      3.472|         18.5|           25.0|        83.998726|        0.0|\n",
            "|            91.561|            21.975|        3.1|     175.0|    109.0| 72.7| 194.6|      3.368|         17.5|           25.0|         71.18145|        0.0|\n",
            "|             39.35|              25.3|        3.8|     240.0|    109.0| 72.7| 196.2|      3.543|         17.5|           23.0|          95.6367|        0.0|\n",
            "|            27.851|            31.965|        3.8|     205.0|    113.8| 74.7| 206.8|      3.778|         18.5|           24.0|         85.82841|        0.0|\n",
            "|            83.257|            27.885|        3.8|     205.0|    112.2| 73.5| 200.0|      3.591|         17.5|           25.0|        84.254524|        0.0|\n",
            "|            63.729|            39.895|        4.6|     275.0|    115.3| 74.5| 207.2|      3.978|         18.5|           22.0|         113.8546|        0.0|\n",
            "|             6.536|            39.665|        4.6|     275.0|    108.0| 75.5| 200.6|      3.843|         19.0|           22.0|        113.76588|        0.0|\n",
            "|            11.185|             31.01|        3.0|     200.0|    107.4| 70.3| 194.8|       3.77|         18.0|           22.0|         83.48309|        0.0|\n",
            "|           145.519|             13.26|        2.2|     115.0|    104.1| 67.9| 180.9|      2.676|         14.3|           27.0|        46.363346|        0.0|\n",
            "|           135.126|            16.535|        3.1|     170.0|    107.0| 69.4| 190.4|      3.051|         15.0|           25.0|         67.31446|        0.0|\n",
            "|            24.629|             18.89|        3.1|     175.0|    107.5| 72.5| 200.9|       3.33|         16.6|           25.0|        69.991394|        0.0|\n",
            "|            42.593|             19.39|        3.4|     180.0|    110.5| 72.7| 197.9|       3.34|         17.0|           27.0|        72.030914|        0.0|\n",
            "|            26.402|             24.34|        3.8|     200.0|    101.1| 74.1| 193.2|        3.5|         16.8|           25.0|        81.118546|        0.0|\n",
            "+------------------+------------------+-----------+----------+---------+-----+------+-----------+-------------+---------------+-----------------+-----------+\n",
            "only showing top 20 rows\n",
            "\n"
          ],
          "name": "stdout"
        }
      ]
    },
    {
      "cell_type": "code",
      "metadata": {
        "colab": {
          "base_uri": "https://localhost:8080/"
        },
        "id": "WCcgD1fvabp4",
        "outputId": "afb6f2a4-aa1a-442a-98ef-feecfebe5c48"
      },
      "source": [
        "# Assemble all the features with VectorAssembler\n",
        "required_features = ['Sales_in_thousands',\n",
        "                    'Price_in_thousands',\n",
        "                    'Engine_size',\n",
        "                    'Horsepower',\n",
        "                    'Wheelbase',\n",
        "                    'Width',\n",
        "                    'Length',\n",
        "                    'Curb_weight',\n",
        "                    'Fuel_capacity',\n",
        "                    'Fuel_efficiency',\n",
        "                    'Power_perf_factor',\n",
        "                    'VehicleType'\n",
        "                   ]\n",
        "from pyspark.ml.feature import VectorAssembler\n",
        "assembler = VectorAssembler(inputCols=required_features, outputCol='features')\n",
        "transformed_data = assembler.transform(dataset)\n",
        "transformed_data.show(5)"
      ],
      "execution_count": null,
      "outputs": [
        {
          "output_type": "stream",
          "text": [
            "+------------------+------------------+-----------+----------+---------+-----+------+-----------+-------------+---------------+-----------------+-----------+--------------------+\n",
            "|Sales_in_thousands|Price_in_thousands|Engine_size|Horsepower|Wheelbase|Width|Length|Curb_weight|Fuel_capacity|Fuel_efficiency|Power_perf_factor|VehicleType|            features|\n",
            "+------------------+------------------+-----------+----------+---------+-----+------+-----------+-------------+---------------+-----------------+-----------+--------------------+\n",
            "|            16.919|              21.5|        1.8|     140.0|    101.2| 67.3| 172.4|      2.639|         13.2|           28.0|         58.28015|        0.0|[16.9190006256103...|\n",
            "|            39.384|              28.4|        3.2|     225.0|    108.1| 70.3| 192.9|      3.517|         17.2|           25.0|         91.37078|        0.0|[39.3839988708496...|\n",
            "|             8.588|              42.0|        3.5|     210.0|    114.6| 71.4| 196.6|       3.85|         18.0|           22.0|         91.38978|        0.0|[8.58800029754638...|\n",
            "|            20.397|             23.99|        1.8|     150.0|    102.6| 68.2| 178.0|      2.998|         16.4|           27.0|        62.777637|        0.0|[20.3969993591308...|\n",
            "|             18.78|             33.95|        2.8|     200.0|    108.7| 76.1| 192.0|      3.561|         18.5|           22.0|          84.5651|        0.0|[18.7800006866455...|\n",
            "+------------------+------------------+-----------+----------+---------+-----+------+-----------+-------------+---------------+-----------------+-----------+--------------------+\n",
            "only showing top 5 rows\n",
            "\n"
          ],
          "name": "stdout"
        }
      ]
    },
    {
      "cell_type": "code",
      "metadata": {
        "id": "dCxyWtgBbTfT"
      },
      "source": [
        "(training_data, test_data) = transformed_data.randomSplit([0.8,0.2])"
      ],
      "execution_count": null,
      "outputs": []
    },
    {
      "cell_type": "code",
      "metadata": {
        "id": "QbfsUisgb3FF"
      },
      "source": [
        "from pyspark.ml.classification import RandomForestClassifier\n",
        "rf = RandomForestClassifier(labelCol='VehicleType',featuresCol='features',\n",
        "maxDepth=5)"
      ],
      "execution_count": null,
      "outputs": []
    },
    {
      "cell_type": "code",
      "metadata": {
        "id": "VOKE75l6cIak"
      },
      "source": [
        "#Now we fit the model:\n",
        "model = rf.fit(training_data)"
      ],
      "execution_count": null,
      "outputs": []
    },
    {
      "cell_type": "code",
      "metadata": {
        "id": "6dnH61LwcaNP"
      },
      "source": [
        "predictions = model.transform(test_data)"
      ],
      "execution_count": null,
      "outputs": []
    },
    {
      "cell_type": "code",
      "metadata": {
        "id": "jeGn-gqWi-P6"
      },
      "source": [
        "# Evaluate our model\n",
        "from pyspark.ml.evaluation import MulticlassClassificationEvaluator\n",
        "evaluator = MulticlassClassificationEvaluator(\n",
        "    labelCol='VehicleType', \n",
        "    predictionCol='prediction', \n",
        "    metricName='accuracy')\n"
      ],
      "execution_count": null,
      "outputs": []
    },
    {
      "cell_type": "code",
      "metadata": {
        "colab": {
          "base_uri": "https://localhost:8080/"
        },
        "id": "uLitEEe6jIme",
        "outputId": "742df78a-8dd0-42ed-b2f0-10080dd2c905"
      },
      "source": [
        "#we to get the accuracy we do:\n",
        "accuracy = evaluator.evaluate(predictions)\n",
        "print('Test Accuracy = ', accuracy)"
      ],
      "execution_count": null,
      "outputs": [
        {
          "output_type": "stream",
          "text": [
            "Test Accuracy =  1.0\n"
          ],
          "name": "stdout"
        }
      ]
    },
    {
      "cell_type": "markdown",
      "metadata": {
        "id": "HzP9dm-i0fK0"
      },
      "source": [
        "# Second file : Vgames"
      ]
    },
    {
      "cell_type": "code",
      "metadata": {
        "id": "Y5QBoyZZ2pNJ"
      },
      "source": [
        "df2 = spark.read.format('com.databricks.spark.csv').\\\n",
        "                               options(header='true', \\\n",
        "                               inferschema='true').\\\n",
        "                load(\"vgames.csv\")"
      ],
      "execution_count": 13,
      "outputs": []
    },
    {
      "cell_type": "code",
      "metadata": {
        "colab": {
          "base_uri": "https://localhost:8080/"
        },
        "id": "pmLjCgSb3dc4",
        "outputId": "f5c8bc17-1610-42ba-875e-067e72e56442"
      },
      "source": [
        "df2.show(5)"
      ],
      "execution_count": 14,
      "outputs": [
        {
          "output_type": "stream",
          "text": [
            "+----+--------------------+--------+------+------------+---------+--------+--------+--------+-----------+------------+\n",
            "|Rank|                Name|Platform|  Year|       Genre|Publisher|NA_Sales|EU_Sales|JP_Sales|Other_Sales|Global_Sales|\n",
            "+----+--------------------+--------+------+------------+---------+--------+--------+--------+-----------+------------+\n",
            "|   1|          Wii Sports|     Wii|2006.0|      Sports| Nintendo|   41.49|   29.02|    3.77|       8.46|       82.74|\n",
            "|   2|   Super Mario Bros.|     NES|1985.0|    Platform| Nintendo|   29.08|    3.58|    6.81|       0.77|       40.24|\n",
            "|   3|      Mario Kart Wii|     Wii|2008.0|      Racing| Nintendo|   15.85|   12.88|    3.79|       3.31|       35.82|\n",
            "|   4|   Wii Sports Resort|     Wii|2009.0|      Sports| Nintendo|   15.75|   11.01|    3.28|       2.96|        33.0|\n",
            "|   5|Pokemon Red/Pokem...|      GB|1996.0|Role-Playing| Nintendo|   11.27|    8.89|   10.22|        1.0|       31.37|\n",
            "+----+--------------------+--------+------+------------+---------+--------+--------+--------+-----------+------------+\n",
            "only showing top 5 rows\n",
            "\n"
          ],
          "name": "stdout"
        }
      ]
    },
    {
      "cell_type": "code",
      "metadata": {
        "colab": {
          "base_uri": "https://localhost:8080/",
          "height": 421
        },
        "id": "hXz3b2Mf3fhE",
        "outputId": "ebb3d0e8-1550-4c0c-89ab-0eea1a5c74b0"
      },
      "source": [
        "df2.describe().toPandas().transpose()"
      ],
      "execution_count": 15,
      "outputs": [
        {
          "output_type": "execute_result",
          "data": {
            "text/html": [
              "<div>\n",
              "<style scoped>\n",
              "    .dataframe tbody tr th:only-of-type {\n",
              "        vertical-align: middle;\n",
              "    }\n",
              "\n",
              "    .dataframe tbody tr th {\n",
              "        vertical-align: top;\n",
              "    }\n",
              "\n",
              "    .dataframe thead th {\n",
              "        text-align: right;\n",
              "    }\n",
              "</style>\n",
              "<table border=\"1\" class=\"dataframe\">\n",
              "  <thead>\n",
              "    <tr style=\"text-align: right;\">\n",
              "      <th></th>\n",
              "      <th>0</th>\n",
              "      <th>1</th>\n",
              "      <th>2</th>\n",
              "      <th>3</th>\n",
              "      <th>4</th>\n",
              "    </tr>\n",
              "  </thead>\n",
              "  <tbody>\n",
              "    <tr>\n",
              "      <th>summary</th>\n",
              "      <td>count</td>\n",
              "      <td>mean</td>\n",
              "      <td>stddev</td>\n",
              "      <td>min</td>\n",
              "      <td>max</td>\n",
              "    </tr>\n",
              "    <tr>\n",
              "      <th>Rank</th>\n",
              "      <td>16291</td>\n",
              "      <td>8290.190227733105</td>\n",
              "      <td>4792.654449970838</td>\n",
              "      <td>1</td>\n",
              "      <td>16600</td>\n",
              "    </tr>\n",
              "    <tr>\n",
              "      <th>Name</th>\n",
              "      <td>16291</td>\n",
              "      <td>1942.0</td>\n",
              "      <td>NaN</td>\n",
              "      <td>'98 Koshien</td>\n",
              "      <td>¡Shin Chan Flipa en colores!</td>\n",
              "    </tr>\n",
              "    <tr>\n",
              "      <th>Platform</th>\n",
              "      <td>16291</td>\n",
              "      <td>2600.0</td>\n",
              "      <td>0.0</td>\n",
              "      <td>2600</td>\n",
              "      <td>XOne</td>\n",
              "    </tr>\n",
              "    <tr>\n",
              "      <th>Year</th>\n",
              "      <td>16291</td>\n",
              "      <td>2006.4055613528942</td>\n",
              "      <td>5.832412219522288</td>\n",
              "      <td>1980.0</td>\n",
              "      <td>2020.0</td>\n",
              "    </tr>\n",
              "    <tr>\n",
              "      <th>Genre</th>\n",
              "      <td>16291</td>\n",
              "      <td>None</td>\n",
              "      <td>None</td>\n",
              "      <td>Action</td>\n",
              "      <td>Strategy</td>\n",
              "    </tr>\n",
              "    <tr>\n",
              "      <th>Publisher</th>\n",
              "      <td>16291</td>\n",
              "      <td>None</td>\n",
              "      <td>None</td>\n",
              "      <td>10TACLE Studios</td>\n",
              "      <td>responDESIGN</td>\n",
              "    </tr>\n",
              "    <tr>\n",
              "      <th>NA_Sales</th>\n",
              "      <td>16291</td>\n",
              "      <td>0.2656466760788366</td>\n",
              "      <td>0.8224321259139096</td>\n",
              "      <td>0.0</td>\n",
              "      <td>41.49</td>\n",
              "    </tr>\n",
              "    <tr>\n",
              "      <th>EU_Sales</th>\n",
              "      <td>16291</td>\n",
              "      <td>0.14773126266039754</td>\n",
              "      <td>0.5093029304674006</td>\n",
              "      <td>0.0</td>\n",
              "      <td>29.02</td>\n",
              "    </tr>\n",
              "    <tr>\n",
              "      <th>JP_Sales</th>\n",
              "      <td>16291</td>\n",
              "      <td>0.07883309802958094</td>\n",
              "      <td>0.31187949983649993</td>\n",
              "      <td>0.0</td>\n",
              "      <td>10.22</td>\n",
              "    </tr>\n",
              "    <tr>\n",
              "      <th>Other_Sales</th>\n",
              "      <td>16291</td>\n",
              "      <td>0.048426124854206894</td>\n",
              "      <td>0.19008286226480517</td>\n",
              "      <td>0.0</td>\n",
              "      <td>10.57</td>\n",
              "    </tr>\n",
              "    <tr>\n",
              "      <th>Global_Sales</th>\n",
              "      <td>16291</td>\n",
              "      <td>0.5409103185808628</td>\n",
              "      <td>1.5673445067837204</td>\n",
              "      <td>0.01</td>\n",
              "      <td>82.74</td>\n",
              "    </tr>\n",
              "  </tbody>\n",
              "</table>\n",
              "</div>"
            ],
            "text/plain": [
              "                  0  ...                             4\n",
              "summary       count  ...                           max\n",
              "Rank          16291  ...                         16600\n",
              "Name          16291  ...  ¡Shin Chan Flipa en colores!\n",
              "Platform      16291  ...                          XOne\n",
              "Year          16291  ...                        2020.0\n",
              "Genre         16291  ...                      Strategy\n",
              "Publisher     16291  ...                  responDESIGN\n",
              "NA_Sales      16291  ...                         41.49\n",
              "EU_Sales      16291  ...                         29.02\n",
              "JP_Sales      16291  ...                         10.22\n",
              "Other_Sales   16291  ...                         10.57\n",
              "Global_Sales  16291  ...                         82.74\n",
              "\n",
              "[12 rows x 5 columns]"
            ]
          },
          "metadata": {
            "tags": []
          },
          "execution_count": 15
        }
      ]
    },
    {
      "cell_type": "code",
      "metadata": {
        "colab": {
          "base_uri": "https://localhost:8080/",
          "height": 642
        },
        "id": "CjqykJ087sf_",
        "outputId": "ccddf643-c665-4857-c444-deed7b02c566"
      },
      "source": [
        "import pandas as pd\n",
        "from pandas.plotting import scatter_matrix\n",
        "numeric_features = [t[0] for t in df2.dtypes if t[1] == 'int' or t[1] == 'double']\n",
        "sampled_data = df2.select(numeric_features).sample(False, 0.8).toPandas()\n",
        "axs = scatter_matrix(sampled_data, figsize=(10, 10))\n",
        "n = len(sampled_data.columns)\n",
        "for i in range(n):\n",
        "  v = axs[i, 0]\n",
        "  v.yaxis.label.set_rotation(0)\n",
        "  v.yaxis.label.set_ha('right')\n",
        "  v.set_yticks(())\n",
        "  h = axs[n-1, i]\n",
        "  h.xaxis.label.set_rotation(90)\n",
        "  h.set_xticks(())"
      ],
      "execution_count": 16,
      "outputs": [
        {
          "output_type": "display_data",
          "data": {
            "image/png": "[encoded data removed]",
            "text/plain": [
              "<Figure size 720x720 with 49 Axes>"
            ]
          },
          "metadata": {
            "tags": [],
            "needs_background": "light"
          }
        }
      ]
    },
    {
      "cell_type": "code",
      "metadata": {
        "colab": {
          "base_uri": "https://localhost:8080/"
        },
        "id": "oJT2TaXP8b5v",
        "outputId": "f6004543-0063-4f67-9536-f9dc1d9522e8"
      },
      "source": [
        "import six\n",
        "for i in df2.columns:\n",
        "  if not( isinstance(df2.select(i).take(1)[0][0], six.string_types)):\n",
        "    print( \"Correlation to Employees for \", i, df2.stat.corr('Global_Sales',i))"
      ],
      "execution_count": 17,
      "outputs": [
        {
          "output_type": "stream",
          "text": [
            "Correlation to Employees for  Rank -0.42697487174026194\n",
            "Correlation to Employees for  Year -0.07464690843583835\n",
            "Correlation to Employees for  NA_Sales 0.9412692156419115\n",
            "Correlation to Employees for  EU_Sales 0.9032637339929322\n",
            "Correlation to Employees for  JP_Sales 0.6127741711194392\n",
            "Correlation to Employees for  Other_Sales 0.7479639060045417\n",
            "Correlation to Employees for  Global_Sales 1.0\n"
          ],
          "name": "stdout"
        }
      ]
    },
    {
      "cell_type": "code",
      "metadata": {
        "colab": {
          "base_uri": "https://localhost:8080/"
        },
        "id": "D7HwDIvb9xkX",
        "outputId": "ebe1577f-75ed-4a95-92b6-09d88581b7ec"
      },
      "source": [
        "from pyspark.ml.feature import VectorAssembler\n",
        "vectorAssembler = VectorAssembler(inputCols = ['Rank', 'NA_Sales','EU_Sales','JP_Sales','Other_Sales','Global_Sales'], outputCol = 'features')\n",
        "vgames_df = vectorAssembler.transform(df2)\n",
        "vgames_df = vgames_df.select(['features', 'Global_Sales'])\n",
        "vgames_df.show(3)"
      ],
      "execution_count": 18,
      "outputs": [
        {
          "output_type": "stream",
          "text": [
            "+--------------------+------------+\n",
            "|            features|Global_Sales|\n",
            "+--------------------+------------+\n",
            "|[1.0,41.49,29.02,...|       82.74|\n",
            "|[2.0,29.08,3.58,6...|       40.24|\n",
            "|[3.0,15.85,12.88,...|       35.82|\n",
            "+--------------------+------------+\n",
            "only showing top 3 rows\n",
            "\n"
          ],
          "name": "stdout"
        }
      ]
    },
    {
      "cell_type": "code",
      "metadata": {
        "id": "8ZXnrSJa_U3F"
      },
      "source": [
        "splits = vgames_df.randomSplit([0.7, 0.3])\n",
        "train_df = splits[0]\n",
        "test_df = splits[1]"
      ],
      "execution_count": 19,
      "outputs": []
    },
    {
      "cell_type": "code",
      "metadata": {
        "colab": {
          "base_uri": "https://localhost:8080/"
        },
        "id": "u5hoOuDn_sPB",
        "outputId": "742c4a68-b254-42f1-c07e-ba021cf65a03"
      },
      "source": [
        "from pyspark.ml.regression import LinearRegression\n",
        "lr = LinearRegression(featuresCol = 'features', labelCol='Global_Sales', maxIter=10, regParam=0.3, elasticNetParam=0.8)\n",
        "lr_model = lr.fit(train_df)\n",
        "print(\"Coefficients: \" + str(lr_model.coefficients))\n",
        "print(\"Intercept: \" + str(lr_model.intercept))\n",
        "print(lr_model.summary.r2)"
      ],
      "execution_count": 21,
      "outputs": [
        {
          "output_type": "stream",
          "text": [
            "Coefficients: [0.0,0.24891156093996042,0.09810474808677629,0.0,0.0,0.6018317035682041]\n",
            "Intercept: 0.12945999457053398\n",
            "0.9380745538625432\n"
          ],
          "name": "stdout"
        }
      ]
    },
    {
      "cell_type": "markdown",
      "metadata": {
        "id": "hRvWRlHUl8Kx"
      },
      "source": [
        "# Third file : GooglePlay"
      ]
    },
    {
      "cell_type": "code",
      "metadata": {
        "id": "yHgL_fTwixWz"
      },
      "source": [
        "\n",
        "ggplay = spark.read.format('com.databricks.spark.csv').\\\n",
        "                               options(header='true', \\\n",
        "                               inferschema='true').\\\n",
        "                load(\"final_googlePlay.csv\")"
      ],
      "execution_count": null,
      "outputs": []
    },
    {
      "cell_type": "code",
      "metadata": {
        "colab": {
          "base_uri": "https://localhost:8080/"
        },
        "id": "Qd5fDugli0CO",
        "outputId": "62851e7c-c484-4d7c-bcdc-58b9e615d263"
      },
      "source": [
        "dataset1 = ggplay.select(col('App'),\n",
        "                         col('Category'),                        \n",
        "                         col('Rating').cast('float'),\n",
        "                         col('Reviews').cast('float'),\n",
        "                         col('numberOfInstalls').cast('float'),\n",
        "                         col('Type'),\n",
        "                         col('price').cast('float'),\n",
        "                         col('Genres')\n",
        "                         \n",
        "                        )\n",
        "dataset1.show()"
      ],
      "execution_count": null,
      "outputs": [
        {
          "output_type": "stream",
          "text": [
            "+--------------------+--------------+------+--------+----------------+----+-----+--------------------+\n",
            "|                 App|      Category|Rating| Reviews|numberOfInstalls|Type|price|              Genres|\n",
            "+--------------------+--------------+------+--------+----------------+----+-----+--------------------+\n",
            "|Photo Editor & Ca...|ART_AND_DESIGN|   4.1|   159.0|            null|Free|  0.0|        Art & Design|\n",
            "| Coloring book moana|ART_AND_DESIGN|   3.9|   967.0|            null|Free|  0.0|Art & Design;Pret...|\n",
            "|U Launcher Lite –...|ART_AND_DESIGN|   4.7| 87510.0|            null|Free|  0.0|        Art & Design|\n",
            "|Sketch - Draw & P...|ART_AND_DESIGN|   4.5|215644.0|            null|Free|  0.0|        Art & Design|\n",
            "|Pixel Draw - Numb...|ART_AND_DESIGN|   4.3|   967.0|            null|Free|  0.0|Art & Design;Crea...|\n",
            "|Paper flowers ins...|ART_AND_DESIGN|   4.4|   167.0|            null|Free|  0.0|        Art & Design|\n",
            "|Smoke Effect Phot...|ART_AND_DESIGN|   3.8|   178.0|            null|Free|  0.0|        Art & Design|\n",
            "|    Infinite Painter|ART_AND_DESIGN|   4.1| 36815.0|            null|Free|  0.0|        Art & Design|\n",
            "|Garden Coloring Book|ART_AND_DESIGN|   4.4| 13791.0|            null|Free|  0.0|        Art & Design|\n",
            "|Kids Paint Free -...|ART_AND_DESIGN|   4.7|   121.0|            null|Free|  0.0|Art & Design;Crea...|\n",
            "|Text on Photo - F...|ART_AND_DESIGN|   4.4| 13880.0|            null|Free|  0.0|        Art & Design|\n",
            "|Name Art Photo Ed...|ART_AND_DESIGN|   4.4|  8788.0|            null|Free|  0.0|        Art & Design|\n",
            "|Tattoo Name On My...|ART_AND_DESIGN|   4.2| 44829.0|            null|Free|  0.0|        Art & Design|\n",
            "|Mandala Coloring ...|ART_AND_DESIGN|   4.6|  4326.0|            null|Free|  0.0|        Art & Design|\n",
            "|3D Color Pixel by...|ART_AND_DESIGN|   4.4|  1518.0|            null|Free|  0.0|        Art & Design|\n",
            "|Photo Designer - ...|ART_AND_DESIGN|   4.7|  3632.0|            null|Free|  0.0|        Art & Design|\n",
            "|350 Diy Room Deco...|ART_AND_DESIGN|   4.5|    27.0|            null|Free|  0.0|        Art & Design|\n",
            "|FlipaClip - Carto...|ART_AND_DESIGN|   4.3|194216.0|            null|Free|  0.0|        Art & Design|\n",
            "|        ibis Paint X|ART_AND_DESIGN|   4.6|224399.0|            null|Free|  0.0|        Art & Design|\n",
            "|Logo Maker - Smal...|ART_AND_DESIGN|   4.0|   450.0|            null|Free|  0.0|        Art & Design|\n",
            "+--------------------+--------------+------+--------+----------------+----+-----+--------------------+\n",
            "only showing top 20 rows\n",
            "\n"
          ],
          "name": "stdout"
        }
      ]
    },
    {
      "cell_type": "code",
      "metadata": {
        "colab": {
          "base_uri": "https://localhost:8080/"
        },
        "id": "gXZ1_lqBjm2o",
        "outputId": "ca2f07ad-a96c-4f33-dcda-ad24a5123e9c"
      },
      "source": [
        "bb=pd.read_csv('final_googlePlay.csv')\n",
        "bb.isnull().sum()"
      ],
      "execution_count": null,
      "outputs": [
        {
          "output_type": "execute_result",
          "data": {
            "text/plain": [
              "App                 0\n",
              "Category            0\n",
              "Rating              0\n",
              "Reviews             0\n",
              "numberOfInstalls    0\n",
              "Type                0\n",
              "price               0\n",
              "Genres              0\n",
              "dtype: int64"
            ]
          },
          "metadata": {
            "tags": []
          },
          "execution_count": 110
        }
      ]
    },
    {
      "cell_type": "code",
      "metadata": {
        "colab": {
          "base_uri": "https://localhost:8080/",
          "height": 419
        },
        "id": "f_j828pgfCb7",
        "outputId": "66686b76-eb4c-4d9f-de07-9bd2ae2d91a4"
      },
      "source": [
        "from pyspark.ml.feature import StringIndexer\n",
        "\n",
        "indexer = StringIndexer(inputCol=\"Category\", outputCol=\"categoryIndex\")\n",
        "indexed = indexer.fit(dataset1).transform(dataset1)\n",
        "indexer1 = StringIndexer(inputCol=\"Type\", outputCol=\"TypeIndex\")\n",
        "indexed1 = indexer1.fit(indexed).transform(indexed)\n",
        "indexer2 = StringIndexer(inputCol=\"Genres\", outputCol=\"GenresIndex\")\n",
        "indexed2 = indexer2.fit(indexed1).transform(indexed1)\n",
        "final=indexed2.toPandas()\n",
        "final.drop('Category', inplace=True, axis=1)\n",
        "final.drop('Type',inplace=True, axis=1)\n",
        "final.drop('Genres', inplace=True, axis=1)\n",
        "final.drop('App', inplace=True, axis=1)\n",
        "final.dropna(inplace=True)\n",
        "final"
      ],
      "execution_count": null,
      "outputs": [
        {
          "output_type": "execute_result",
          "data": {
            "text/html": [
              "<div>\n",
              "<style scoped>\n",
              "    .dataframe tbody tr th:only-of-type {\n",
              "        vertical-align: middle;\n",
              "    }\n",
              "\n",
              "    .dataframe tbody tr th {\n",
              "        vertical-align: top;\n",
              "    }\n",
              "\n",
              "    .dataframe thead th {\n",
              "        text-align: right;\n",
              "    }\n",
              "</style>\n",
              "<table border=\"1\" class=\"dataframe\">\n",
              "  <thead>\n",
              "    <tr style=\"text-align: right;\">\n",
              "      <th></th>\n",
              "      <th>Rating</th>\n",
              "      <th>Reviews</th>\n",
              "      <th>numberOfInstalls</th>\n",
              "      <th>price</th>\n",
              "      <th>categoryIndex</th>\n",
              "      <th>TypeIndex</th>\n",
              "      <th>GenresIndex</th>\n",
              "    </tr>\n",
              "  </thead>\n",
              "  <tbody>\n",
              "    <tr>\n",
              "      <th>589</th>\n",
              "      <td>4.4</td>\n",
              "      <td>28.0</td>\n",
              "      <td>500.0</td>\n",
              "      <td>0.0</td>\n",
              "      <td>17.0</td>\n",
              "      <td>0.0</td>\n",
              "      <td>19.0</td>\n",
              "    </tr>\n",
              "    <tr>\n",
              "      <th>592</th>\n",
              "      <td>4.7</td>\n",
              "      <td>6.0</td>\n",
              "      <td>100.0</td>\n",
              "      <td>0.0</td>\n",
              "      <td>17.0</td>\n",
              "      <td>0.0</td>\n",
              "      <td>19.0</td>\n",
              "    </tr>\n",
              "    <tr>\n",
              "      <th>594</th>\n",
              "      <td>2.7</td>\n",
              "      <td>3.0</td>\n",
              "      <td>100.0</td>\n",
              "      <td>0.0</td>\n",
              "      <td>17.0</td>\n",
              "      <td>0.0</td>\n",
              "      <td>19.0</td>\n",
              "    </tr>\n",
              "    <tr>\n",
              "      <th>597</th>\n",
              "      <td>5.0</td>\n",
              "      <td>2.0</td>\n",
              "      <td>100.0</td>\n",
              "      <td>0.0</td>\n",
              "      <td>17.0</td>\n",
              "      <td>0.0</td>\n",
              "      <td>19.0</td>\n",
              "    </tr>\n",
              "    <tr>\n",
              "      <th>598</th>\n",
              "      <td>4.8</td>\n",
              "      <td>20.0</td>\n",
              "      <td>500.0</td>\n",
              "      <td>0.0</td>\n",
              "      <td>17.0</td>\n",
              "      <td>0.0</td>\n",
              "      <td>19.0</td>\n",
              "    </tr>\n",
              "    <tr>\n",
              "      <th>...</th>\n",
              "      <td>...</td>\n",
              "      <td>...</td>\n",
              "      <td>...</td>\n",
              "      <td>...</td>\n",
              "      <td>...</td>\n",
              "      <td>...</td>\n",
              "      <td>...</td>\n",
              "    </tr>\n",
              "    <tr>\n",
              "      <th>9311</th>\n",
              "      <td>5.0</td>\n",
              "      <td>1.0</td>\n",
              "      <td>10.0</td>\n",
              "      <td>0.0</td>\n",
              "      <td>1.0</td>\n",
              "      <td>0.0</td>\n",
              "      <td>29.0</td>\n",
              "    </tr>\n",
              "    <tr>\n",
              "      <th>9337</th>\n",
              "      <td>4.3</td>\n",
              "      <td>3.0</td>\n",
              "      <td>100.0</td>\n",
              "      <td>0.0</td>\n",
              "      <td>9.0</td>\n",
              "      <td>0.0</td>\n",
              "      <td>10.0</td>\n",
              "    </tr>\n",
              "    <tr>\n",
              "      <th>9339</th>\n",
              "      <td>4.8</td>\n",
              "      <td>19.0</td>\n",
              "      <td>100.0</td>\n",
              "      <td>0.0</td>\n",
              "      <td>11.0</td>\n",
              "      <td>0.0</td>\n",
              "      <td>12.0</td>\n",
              "    </tr>\n",
              "    <tr>\n",
              "      <th>9353</th>\n",
              "      <td>4.0</td>\n",
              "      <td>7.0</td>\n",
              "      <td>500.0</td>\n",
              "      <td>0.0</td>\n",
              "      <td>0.0</td>\n",
              "      <td>0.0</td>\n",
              "      <td>2.0</td>\n",
              "    </tr>\n",
              "    <tr>\n",
              "      <th>9355</th>\n",
              "      <td>5.0</td>\n",
              "      <td>4.0</td>\n",
              "      <td>100.0</td>\n",
              "      <td>0.0</td>\n",
              "      <td>0.0</td>\n",
              "      <td>0.0</td>\n",
              "      <td>2.0</td>\n",
              "    </tr>\n",
              "  </tbody>\n",
              "</table>\n",
              "<p>511 rows × 7 columns</p>\n",
              "</div>"
            ],
            "text/plain": [
              "      Rating  Reviews  numberOfInstalls  ...  categoryIndex  TypeIndex  GenresIndex\n",
              "589      4.4     28.0             500.0  ...           17.0        0.0         19.0\n",
              "592      4.7      6.0             100.0  ...           17.0        0.0         19.0\n",
              "594      2.7      3.0             100.0  ...           17.0        0.0         19.0\n",
              "597      5.0      2.0             100.0  ...           17.0        0.0         19.0\n",
              "598      4.8     20.0             500.0  ...           17.0        0.0         19.0\n",
              "...      ...      ...               ...  ...            ...        ...          ...\n",
              "9311     5.0      1.0              10.0  ...            1.0        0.0         29.0\n",
              "9337     4.3      3.0             100.0  ...            9.0        0.0         10.0\n",
              "9339     4.8     19.0             100.0  ...           11.0        0.0         12.0\n",
              "9353     4.0      7.0             500.0  ...            0.0        0.0          2.0\n",
              "9355     5.0      4.0             100.0  ...            0.0        0.0          2.0\n",
              "\n",
              "[511 rows x 7 columns]"
            ]
          },
          "metadata": {
            "tags": []
          },
          "execution_count": 204
        }
      ]
    },
    {
      "cell_type": "code",
      "metadata": {
        "id": "DT0-49EW1cMf"
      },
      "source": [
        "play = spark.read.format('com.databricks.spark.csv').\\\n",
        "                               options(header='true', \\\n",
        "                               inferschema='true').\\\n",
        "                load(\"final1.csv\")"
      ],
      "execution_count": null,
      "outputs": []
    },
    {
      "cell_type": "code",
      "metadata": {
        "colab": {
          "base_uri": "https://localhost:8080/"
        },
        "id": "Fg3SBsI_Sm9W",
        "outputId": "1e80ea95-16f7-422d-eb24-75943d589dda"
      },
      "source": [
        "play.show(4)"
      ],
      "execution_count": null,
      "outputs": [
        {
          "output_type": "stream",
          "text": [
            "+------+-------+----------------+-----+-------------+---------+-----------+\n",
            "|Rating|Reviews|numberOfInstalls|price|categoryIndex|TypeIndex|GenresIndex|\n",
            "+------+-------+----------------+-----+-------------+---------+-----------+\n",
            "|   4.4|   28.0|           500.0|  0.0|         17.0|      0.0|       19.0|\n",
            "|   4.7|    6.0|           100.0|  0.0|         17.0|      0.0|       19.0|\n",
            "|   2.7|    3.0|           100.0|  0.0|         17.0|      0.0|       19.0|\n",
            "|   5.0|    2.0|           100.0|  0.0|         17.0|      0.0|       19.0|\n",
            "+------+-------+----------------+-----+-------------+---------+-----------+\n",
            "only showing top 4 rows\n",
            "\n"
          ],
          "name": "stdout"
        }
      ]
    },
    {
      "cell_type": "code",
      "metadata": {
        "colab": {
          "base_uri": "https://localhost:8080/"
        },
        "id": "zQy7ldIrS2Np",
        "outputId": "a0450091-0124-4672-813f-cd2e6eff266e"
      },
      "source": [
        "vectorAssembler = VectorAssembler(inputCols = ['Rating', 'Reviews','numberOfInstalls','price','categoryIndex','TypeIndex','GenresIndex'], outputCol = 'features')\n",
        "gg_df = vectorAssembler.transform(play)\n",
        "gg_df.show(5)\n",
        "(training_data, test_data) = gg_df.randomSplit([0.7,0.3])\n",
        "print(\"Training Dataset Count: \" + str(training_data.count()))\n",
        "print(\"Test Dataset Count: \" + str(test_data.count()))"
      ],
      "execution_count": null,
      "outputs": [
        {
          "output_type": "stream",
          "text": [
            "+------+-------+----------------+-----+-------------+---------+-----------+--------------------+\n",
            "|Rating|Reviews|numberOfInstalls|price|categoryIndex|TypeIndex|GenresIndex|            features|\n",
            "+------+-------+----------------+-----+-------------+---------+-----------+--------------------+\n",
            "|   4.4|   28.0|           500.0|  0.0|         17.0|      0.0|       19.0|[4.4,28.0,500.0,0...|\n",
            "|   4.7|    6.0|           100.0|  0.0|         17.0|      0.0|       19.0|[4.7,6.0,100.0,0....|\n",
            "|   2.7|    3.0|           100.0|  0.0|         17.0|      0.0|       19.0|[2.7,3.0,100.0,0....|\n",
            "|   5.0|    2.0|           100.0|  0.0|         17.0|      0.0|       19.0|[5.0,2.0,100.0,0....|\n",
            "|   4.8|   20.0|           500.0|  0.0|         17.0|      0.0|       19.0|[4.8,20.0,500.0,0...|\n",
            "+------+-------+----------------+-----+-------------+---------+-----------+--------------------+\n",
            "only showing top 5 rows\n",
            "\n",
            "Training Dataset Count: 382\n",
            "Test Dataset Count: 129\n"
          ],
          "name": "stdout"
        }
      ]
    },
    {
      "cell_type": "code",
      "metadata": {
        "id": "7VUnLR44TFrN"
      },
      "source": [
        "from pyspark.ml.classification import RandomForestClassifier\n",
        "rf = RandomForestClassifier(labelCol='categoryIndex',featuresCol='features',\n",
        "maxDepth=5)"
      ],
      "execution_count": null,
      "outputs": []
    },
    {
      "cell_type": "code",
      "metadata": {
        "id": "W4whHq3EUHKe"
      },
      "source": [
        "model = rf.fit(training_data)"
      ],
      "execution_count": null,
      "outputs": []
    },
    {
      "cell_type": "code",
      "metadata": {
        "id": "Zyqvz5x2WgO7"
      },
      "source": [
        "predictions = model.transform(test_data)"
      ],
      "execution_count": null,
      "outputs": []
    },
    {
      "cell_type": "code",
      "metadata": {
        "id": "Lr7q7M7pYDVF"
      },
      "source": [
        "# Evaluate our model\n",
        "from pyspark.ml.evaluation import MulticlassClassificationEvaluator\n",
        "evaluator = MulticlassClassificationEvaluator(\n",
        "    labelCol='categoryIndex', \n",
        "    predictionCol='prediction', \n",
        "    metricName='accuracy')\n"
      ],
      "execution_count": null,
      "outputs": []
    },
    {
      "cell_type": "code",
      "metadata": {
        "colab": {
          "base_uri": "https://localhost:8080/"
        },
        "id": "8N78HEo7YJiR",
        "outputId": "15cb2853-678f-4483-eef3-1c5e559b7d17"
      },
      "source": [
        "#we to get the accuracy we do:\n",
        "accuracy = evaluator.evaluate(predictions)\n",
        "print('Test Accuracy = ', accuracy)"
      ],
      "execution_count": null,
      "outputs": [
        {
          "output_type": "stream",
          "text": [
            "Test Accuracy =  0.7751937984496124\n"
          ],
          "name": "stdout"
        }
      ]
    },
    {
      "cell_type": "code",
      "metadata": {
        "id": "qHZTl8pv4OvY"
      },
      "source": [
        ""
      ],
      "execution_count": null,
      "outputs": []
    }
  ]
}